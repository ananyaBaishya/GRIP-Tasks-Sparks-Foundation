{
  "nbformat": 4,
  "nbformat_minor": 0,
  "metadata": {
    "colab": {
      "name": "grip_task1.ipynb",
      "provenance": [],
      "collapsed_sections": []
    },
    "kernelspec": {
      "name": "python3",
      "display_name": "Python 3"
    },
    "language_info": {
      "name": "python"
    }
  },
  "cells": [
    {
      "cell_type": "code",
      "metadata": {
        "id": "VqOsMzhtms4A"
      },
      "source": [
        "#Importing required dependencies\n",
        "import pandas as pd \n",
        "import numpy as np\n",
        "import matplotlib.pyplot as plt\n",
        "from sklearn.linear_model import LinearRegression \n",
        "from sklearn.model_selection import train_test_split\n",
        "from sklearn.metrics import mean_squared_error\n"
      ],
      "execution_count": 2,
      "outputs": []
    },
    {
      "cell_type": "code",
      "metadata": {
        "id": "D1QSXj4ZnK39",
        "colab": {
          "base_uri": "https://localhost:8080/",
          "height": 206
        },
        "outputId": "026ef36d-5011-4922-c0b5-3211105b7405"
      },
      "source": [
        "#importing the dataset\n",
        "url = \"http://bit.ly/w-data\"\n",
        "df = pd.read_csv(url)\n",
        "df.head()"
      ],
      "execution_count": 3,
      "outputs": [
        {
          "output_type": "execute_result",
          "data": {
            "text/html": [
              "<div>\n",
              "<style scoped>\n",
              "    .dataframe tbody tr th:only-of-type {\n",
              "        vertical-align: middle;\n",
              "    }\n",
              "\n",
              "    .dataframe tbody tr th {\n",
              "        vertical-align: top;\n",
              "    }\n",
              "\n",
              "    .dataframe thead th {\n",
              "        text-align: right;\n",
              "    }\n",
              "</style>\n",
              "<table border=\"1\" class=\"dataframe\">\n",
              "  <thead>\n",
              "    <tr style=\"text-align: right;\">\n",
              "      <th></th>\n",
              "      <th>Hours</th>\n",
              "      <th>Scores</th>\n",
              "    </tr>\n",
              "  </thead>\n",
              "  <tbody>\n",
              "    <tr>\n",
              "      <th>0</th>\n",
              "      <td>2.5</td>\n",
              "      <td>21</td>\n",
              "    </tr>\n",
              "    <tr>\n",
              "      <th>1</th>\n",
              "      <td>5.1</td>\n",
              "      <td>47</td>\n",
              "    </tr>\n",
              "    <tr>\n",
              "      <th>2</th>\n",
              "      <td>3.2</td>\n",
              "      <td>27</td>\n",
              "    </tr>\n",
              "    <tr>\n",
              "      <th>3</th>\n",
              "      <td>8.5</td>\n",
              "      <td>75</td>\n",
              "    </tr>\n",
              "    <tr>\n",
              "      <th>4</th>\n",
              "      <td>3.5</td>\n",
              "      <td>30</td>\n",
              "    </tr>\n",
              "  </tbody>\n",
              "</table>\n",
              "</div>"
            ],
            "text/plain": [
              "   Hours  Scores\n",
              "0    2.5      21\n",
              "1    5.1      47\n",
              "2    3.2      27\n",
              "3    8.5      75\n",
              "4    3.5      30"
            ]
          },
          "metadata": {
            "tags": []
          },
          "execution_count": 3
        }
      ]
    },
    {
      "cell_type": "code",
      "metadata": {
        "colab": {
          "base_uri": "https://localhost:8080/"
        },
        "id": "j5zKTVKHnp_g",
        "outputId": "7cd41c98-d4d0-49a1-a052-9092c302d0e7"
      },
      "source": [
        "#Checking the dataset\n",
        "df.info()\n",
        "print(\"NULL VALUE PRESENCE\")\n",
        "df.isnull().values.any()"
      ],
      "execution_count": 4,
      "outputs": [
        {
          "output_type": "stream",
          "text": [
            "<class 'pandas.core.frame.DataFrame'>\n",
            "RangeIndex: 25 entries, 0 to 24\n",
            "Data columns (total 2 columns):\n",
            " #   Column  Non-Null Count  Dtype  \n",
            "---  ------  --------------  -----  \n",
            " 0   Hours   25 non-null     float64\n",
            " 1   Scores  25 non-null     int64  \n",
            "dtypes: float64(1), int64(1)\n",
            "memory usage: 528.0 bytes\n",
            "NULL VALUE PRESENCE\n"
          ],
          "name": "stdout"
        },
        {
          "output_type": "execute_result",
          "data": {
            "text/plain": [
              "False"
            ]
          },
          "metadata": {
            "tags": []
          },
          "execution_count": 4
        }
      ]
    },
    {
      "cell_type": "code",
      "metadata": {
        "colab": {
          "base_uri": "https://localhost:8080/",
          "height": 295
        },
        "id": "-nf1kNykn9HA",
        "outputId": "0b46cb4c-ebd3-437c-d46b-5e0a2a6ca20e"
      },
      "source": [
        "#Scatter plot of the dataset\n",
        "df.plot(kind=\"scatter\", x=\"Hours\", y=\"Scores\")\n",
        "plt.title(\"Hours - Scores Scatter Plot\")\n",
        "plt.show()"
      ],
      "execution_count": 5,
      "outputs": [
        {
          "output_type": "display_data",
          "data": {
            "image/png": "[encoded data removed]",
            "text/plain": [
              "<Figure size 432x288 with 1 Axes>"
            ]
          },
          "metadata": {
            "tags": [],
            "needs_background": "light"
          }
        }
      ]
    },
    {
      "cell_type": "code",
      "metadata": {
        "id": "J79vk2_koFUA"
      },
      "source": [
        "#Separatinf features and labels\n",
        "X = df.drop('Scores', 1)\n",
        "Y = df['Scores']"
      ],
      "execution_count": 6,
      "outputs": []
    },
    {
      "cell_type": "code",
      "metadata": {
        "id": "rZ_WSOqkoJ8K"
      },
      "source": [
        "#Spitting the dataset into training set and testing set\n",
        "X_train, X_test, Y_train, Y_test = train_test_split(X, Y, test_size=0.3, random_state=0)\n"
      ],
      "execution_count": 7,
      "outputs": []
    },
    {
      "cell_type": "markdown",
      "metadata": {
        "id": "bpThnf7hoxfX"
      },
      "source": [
        "Linear Reggression"
      ]
    },
    {
      "cell_type": "code",
      "metadata": {
        "colab": {
          "base_uri": "https://localhost:8080/"
        },
        "id": "mRAgBoOWo2PH",
        "outputId": "ee194ae4-f210-4a68-dd9f-9b78497bd580"
      },
      "source": [
        "#Fitting\n",
        "lm=LinearRegression() \n",
        "lm.fit(X_train,Y_train)"
      ],
      "execution_count": 8,
      "outputs": [
        {
          "output_type": "execute_result",
          "data": {
            "text/plain": [
              "LinearRegression(copy_X=True, fit_intercept=True, n_jobs=None, normalize=False)"
            ]
          },
          "metadata": {
            "tags": []
          },
          "execution_count": 8
        }
      ]
    },
    {
      "cell_type": "code",
      "metadata": {
        "colab": {
          "base_uri": "https://localhost:8080/",
          "height": 295
        },
        "id": "sqQwE3qPo5C_",
        "outputId": "dd1ad914-d892-4982-fc23-84caa368cabe"
      },
      "source": [
        "#Regression line plot\n",
        "reg_line =lm.coef_ * X_train + lm.intercept_\n",
        "plt.scatter(X_train, Y_train)\n",
        "plt.plot(X_train, reg_line,'g--')\n",
        "plt.title(\"Regression Line\")\n",
        "plt.xlabel(\"Hours\")\n",
        "plt.ylabel(\"Scores\")\n",
        "plt.show()\n"
      ],
      "execution_count": 9,
      "outputs": [
        {
          "output_type": "display_data",
          "data": {
            "image/png": "[encoded data removed]",
            "text/plain": [
              "<Figure size 432x288 with 1 Axes>"
            ]
          },
          "metadata": {
            "tags": [],
            "needs_background": "light"
          }
        }
      ]
    },
    {
      "cell_type": "code",
      "metadata": {
        "colab": {
          "base_uri": "https://localhost:8080/"
        },
        "id": "P2LGq3TIpELM",
        "outputId": "a9373c37-8ffe-40be-9da4-3b26a347c302"
      },
      "source": [
        "#RMSE\n",
        "Y_predict = lm.predict(X_test)\n",
        "mse = mean_squared_error(Y_predict, Y_test)\n",
        "rmse = np.sqrt(mse)\n",
        "print(\"Root Mean Squared Error : {}\".format(rmse))"
      ],
      "execution_count": 10,
      "outputs": [
        {
          "output_type": "stream",
          "text": [
            "Root Mean Squared Error : 4.7921912746363144\n"
          ],
          "name": "stdout"
        }
      ]
    },
    {
      "cell_type": "markdown",
      "metadata": {
        "id": "E4Msp9_gpMAu"
      },
      "source": [
        "Problem Statement : What will be predicted score if a student studies for 9.25 hrs/ day?"
      ]
    },
    {
      "cell_type": "code",
      "metadata": {
        "colab": {
          "base_uri": "https://localhost:8080/"
        },
        "id": "Hd01f6c-pSKW",
        "outputId": "4dad6e06-4e17-40b7-de39-33abab98de95"
      },
      "source": [
        "#Problem Statement\n",
        "hour =[9.25]\n",
        "Y_hour = lm.predict([hour])\n",
        "print(\"Hours Studied : {}\".format(hour[0]))\n",
        "print(\"predicted Score : {}\".format(Y_hour[0]))"
      ],
      "execution_count": 11,
      "outputs": [
        {
          "output_type": "stream",
          "text": [
            "Hours Studied : 9.25\n",
            "predicted Score : 92.91505723477056\n"
          ],
          "name": "stdout"
        }
      ]
    }
  ]
}